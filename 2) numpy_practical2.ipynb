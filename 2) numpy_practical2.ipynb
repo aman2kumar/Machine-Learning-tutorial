{
 "cells": [
  {
   "cell_type": "code",
   "execution_count": 1,
   "metadata": {},
   "outputs": [],
   "source": [
    "import numpy as np"
   ]
  },
  {
   "cell_type": "code",
   "execution_count": 2,
   "metadata": {},
   "outputs": [
    {
     "name": "stdout",
     "output_type": "stream",
     "text": [
      "[[1 1 1]\n",
      " [1 1 1]\n",
      " [1 1 1]]\n"
     ]
    }
   ],
   "source": [
    "arr1 = np.array([[1,1,1],[1,1,1],[1,1,1]])                # creating one's array manually.\n",
    "print(arr1)                                                "
   ]
  },
  {
   "cell_type": "code",
   "execution_count": 3,
   "metadata": {},
   "outputs": [
    {
     "name": "stdout",
     "output_type": "stream",
     "text": [
      "[1. 1. 1. 1. 1.]\n"
     ]
    }
   ],
   "source": [
    "arr2 = np.ones(5)                               # creating one's array by function.\n",
    "print(arr2)"
   ]
  },
  {
   "cell_type": "code",
   "execution_count": 4,
   "metadata": {},
   "outputs": [
    {
     "name": "stdout",
     "output_type": "stream",
     "text": [
      "[[1. 1. 1.]\n",
      " [1. 1. 1.]\n",
      " [1. 1. 1.]\n",
      " [1. 1. 1.]\n",
      " [1. 1. 1.]\n",
      " [1. 1. 1.]]\n"
     ]
    }
   ],
   "source": [
    "arr3 = np.ones((6,3))          # Signature: np.ones(shape, dtype=None, order='C').\n",
    "                              # Docstring:Return a new array of given shape and type, filled with ones.\n",
    "print(arr3)"
   ]
  },
  {
   "cell_type": "code",
   "execution_count": 7,
   "metadata": {},
   "outputs": [
    {
     "name": "stdout",
     "output_type": "stream",
     "text": [
      "[['1' '1' '1' '1' '1']\n",
      " ['1' '1' '1' '1' '1']\n",
      " ['1' '1' '1' '1' '1']\n",
      " ['1' '1' '1' '1' '1']]\n"
     ]
    }
   ],
   "source": [
    "arr4 = np.ones((4,5), dtype=str,)\n",
    "print(arr4)"
   ]
  },
  {
   "cell_type": "code",
   "execution_count": 8,
   "metadata": {},
   "outputs": [
    {
     "name": "stdout",
     "output_type": "stream",
     "text": [
      "[[1 1 1 1 1]\n",
      " [1 1 1 1 1]\n",
      " [1 1 1 1 1]\n",
      " [1 1 1 1 1]]\n"
     ]
    }
   ],
   "source": [
    "arr5 = np.ones((4,5), dtype=int)\n",
    "print(arr5)"
   ]
  },
  {
   "cell_type": "code",
   "execution_count": 28,
   "metadata": {},
   "outputs": [
    {
     "name": "stdout",
     "output_type": "stream",
     "text": [
      "[[[1 1 1]\n",
      "  [1 1 1]\n",
      "  [1 1 1]\n",
      "  [1 1 1]\n",
      "  [1 1 1]]\n",
      "\n",
      " [[1 1 1]\n",
      "  [1 1 1]\n",
      "  [1 1 1]\n",
      "  [1 1 1]\n",
      "  [1 1 1]]\n",
      "\n",
      " [[1 1 1]\n",
      "  [1 1 1]\n",
      "  [1 1 1]\n",
      "  [1 1 1]\n",
      "  [1 1 1]]\n",
      "\n",
      " [[1 1 1]\n",
      "  [1 1 1]\n",
      "  [1 1 1]\n",
      "  [1 1 1]\n",
      "  [1 1 1]]]\n"
     ]
    }
   ],
   "source": [
    "arr6 = np.ones((4,5,3), dtype=int)\n",
    "print(arr6)"
   ]
  },
  {
   "cell_type": "code",
   "execution_count": 29,
   "metadata": {},
   "outputs": [
    {
     "name": "stdout",
     "output_type": "stream",
     "text": [
      "[[[[1 1]\n",
      "   [1 1]]\n",
      "\n",
      "  [[1 1]\n",
      "   [1 1]]]\n",
      "\n",
      "\n",
      " [[[1 1]\n",
      "   [1 1]]\n",
      "\n",
      "  [[1 1]\n",
      "   [1 1]]]]\n"
     ]
    }
   ],
   "source": [
    "arr7 = np.ones((2,2,2,2), dtype=int)\n",
    "print(arr7)"
   ]
  },
  {
   "cell_type": "code",
   "execution_count": 11,
   "metadata": {},
   "outputs": [
    {
     "name": "stdout",
     "output_type": "stream",
     "text": [
      "[[1 1 1 1 1]\n",
      " [1 1 1 1 1]\n",
      " [1 1 1 1 1]\n",
      " [1 1 1 1 1]]\n"
     ]
    }
   ],
   "source": [
    "arr8 = np.ones((4,5), dtype=int, order='F')                   # by default order ='C'             \n",
    "print(arr8)"
   ]
  },
  {
   "cell_type": "code",
   "execution_count": 17,
   "metadata": {},
   "outputs": [
    {
     "name": "stdout",
     "output_type": "stream",
     "text": [
      "[0. 0. 0. 0. 0.]\n"
     ]
    }
   ],
   "source": [
    "arr_0_1 = np.zeros(5)                                       # creates zeroes matrix\n",
    "print(arr_0_1)"
   ]
  },
  {
   "cell_type": "code",
   "execution_count": 18,
   "metadata": {},
   "outputs": [
    {
     "name": "stdout",
     "output_type": "stream",
     "text": [
      "[[0. 0. 0. 0. 0. 0.]\n",
      " [0. 0. 0. 0. 0. 0.]\n",
      " [0. 0. 0. 0. 0. 0.]]\n"
     ]
    }
   ],
   "source": [
    "arr_0_2 = np.zeros((3,6))                    # Signature: np.ones(shape, dtype=None, order='C').\n",
    "print(arr_0_2)                              # Docstring:Return a new array of given shape and type, filled with zeroes."
   ]
  },
  {
   "cell_type": "code",
   "execution_count": 19,
   "metadata": {},
   "outputs": [
    {
     "name": "stdout",
     "output_type": "stream",
     "text": [
      "[[0 0 0 0 0 0]\n",
      " [0 0 0 0 0 0]\n",
      " [0 0 0 0 0 0]]\n"
     ]
    }
   ],
   "source": [
    "arr_0_3 = np.zeros((3,6), dtype=int)\n",
    "print(arr_0_3)"
   ]
  },
  {
   "cell_type": "code",
   "execution_count": 20,
   "metadata": {},
   "outputs": [
    {
     "name": "stdout",
     "output_type": "stream",
     "text": [
      "[['' '' '' '' '' '']\n",
      " ['' '' '' '' '' '']\n",
      " ['' '' '' '' '' '']]\n"
     ]
    }
   ],
   "source": [
    "arr_0_4 = np.zeros((3,6), dtype=str)\n",
    "print(arr_0_4)"
   ]
  },
  {
   "cell_type": "code",
   "execution_count": 22,
   "metadata": {},
   "outputs": [
    {
     "name": "stdout",
     "output_type": "stream",
     "text": [
      "[[False False False False False False]\n",
      " [False False False False False False]\n",
      " [False False False False False False]]\n"
     ]
    }
   ],
   "source": [
    "arr_0_5 = np.zeros((3,6), dtype=bool)\n",
    "print(arr_0_5)"
   ]
  },
  {
   "cell_type": "code",
   "execution_count": 23,
   "metadata": {},
   "outputs": [
    {
     "name": "stdout",
     "output_type": "stream",
     "text": [
      "[[ True  True  True  True  True  True]\n",
      " [ True  True  True  True  True  True]\n",
      " [ True  True  True  True  True  True]]\n"
     ]
    }
   ],
   "source": [
    "arr_0_5 = np.ones((3,6), dtype=bool)\n",
    "print(arr_0_5)"
   ]
  },
  {
   "cell_type": "code",
   "execution_count": 25,
   "metadata": {},
   "outputs": [
    {
     "name": "stdout",
     "output_type": "stream",
     "text": [
      "False\n",
      "True\n"
     ]
    }
   ],
   "source": [
    "str1 = ''\n",
    "str2 = '1'\n",
    "print(bool(str1))\n",
    "print(bool(str2))"
   ]
  },
  {
   "cell_type": "code",
   "execution_count": 27,
   "metadata": {},
   "outputs": [
    {
     "name": "stdout",
     "output_type": "stream",
     "text": [
      "[[[            nan 4.94065646e-324 5.71139887e-321 1.97626258e-323\n",
      "   4.84184333e-321]\n",
      "  [2.03060980e-321 4.62445445e-321 2.03060980e-321 3.93276254e-321\n",
      "   2.03060980e-321]\n",
      "  [3.32012114e-321 4.24399178e-314 2.19365147e-321 2.03060980e-321\n",
      "   4.48611606e-321]\n",
      "  [2.03060980e-321 4.05133830e-321 2.03060980e-321 5.71139887e-321\n",
      "   2.03060980e-321]]\n",
      "\n",
      " [[5.71139887e-321 1.97626258e-323             nan             nan\n",
      "   3.23790862e-319]\n",
      "  [0.00000000e+000 7.86158284e+121 1.95043360e+224 3.11518555e-307\n",
      "   1.24610723e-306]\n",
      "  [9.34608432e-307 1.37959129e-306 8.45596650e-307 1.33511969e-306\n",
      "   1.12466813e-312]\n",
      "  [0.00000000e+000 0.00000000e+000 0.00000000e+000 0.00000000e+000\n",
      "   0.00000000e+000]]]\n"
     ]
    }
   ],
   "source": [
    "arr_emp1 = np.empty((2,4,5))\n",
    "print(arr_emp1)"
   ]
  },
  {
   "cell_type": "code",
   "execution_count": 30,
   "metadata": {},
   "outputs": [
    {
     "name": "stdout",
     "output_type": "stream",
     "text": [
      "[[[4128860 6029375 3801155 5570652 6619251]\n",
      "  [7536754 4456540 4980805 6029388 6619204]\n",
      "  [7012467 7274612 6029424 4259914 5636178]\n",
      "  [5439561 5046364 6488161 6881384 6619246]]\n",
      "\n",
      " [[7077920 6357093 7209074 7209065 6029415]\n",
      "  [6881340 7929968 6815860 7209071 6881325]\n",
      "  [7340142 7602293 3276845 2949174 3473458]\n",
      "  [3211319 6488117 3670066 3604581 3473465]]]\n"
     ]
    }
   ],
   "source": [
    "arr_emp2 = np.empty((2,4,5), dtype=int)    # empty(shape, dtype=float, order='C')\n",
    "\n",
    "                                           # Return a new array of given shape and type, without initializing entries.\n",
    "print(arr_emp2)"
   ]
  }
 ],
 "metadata": {
  "kernelspec": {
   "display_name": "Python 3",
   "language": "python",
   "name": "python3"
  },
  "language_info": {
   "codemirror_mode": {
    "name": "ipython",
    "version": 3
   },
   "file_extension": ".py",
   "mimetype": "text/x-python",
   "name": "python",
   "nbconvert_exporter": "python",
   "pygments_lexer": "ipython3",
   "version": "3.7.10"
  }
 },
 "nbformat": 4,
 "nbformat_minor": 4
}
